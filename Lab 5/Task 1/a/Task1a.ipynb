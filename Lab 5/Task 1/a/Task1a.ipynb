{
 "cells": [
  {
   "cell_type": "code",
   "execution_count": 2,
   "metadata": {},
   "outputs": [],
   "source": [
    "def dfs(graph,vst,crs,ord):\n",
    "    vst[crs] = True\n",
    "    for neighbour in graph[crs]:\n",
    "        if not vst[neighbour]:\n",
    "            dfs(graph,vst,neighbour,ord)\n",
    "    ord.append(crs)"
   ]
  },
  {
   "cell_type": "code",
   "execution_count": 7,
   "metadata": {},
   "outputs": [
    {
     "name": "stdout",
     "output_type": "stream",
     "text": [
      "[[3, 1], [1, 2], [4, 5]]\n",
      "---------------------------\n",
      "[4, 5, 3, 1, 2]\n"
     ]
    }
   ],
   "source": [
    "#SAMPLE1\n",
    "f1  = open('input1_a1.txt','r')\n",
    "inf = f1.read().split('\\n')\n",
    "\n",
    "firstline = inf[0].split(' ')\n",
    "nc = int(firstline[0])\n",
    "np = int(firstline[1])\n",
    "\n",
    "prq = []\n",
    "for i in range(1,np+1):\n",
    "    z = inf[i].split(' ')\n",
    "    a,b = int(z[0]),int(z[1])\n",
    "    prq.append([a,b])\n",
    "print(prq)\n",
    "\n",
    "graph = [[] for i in range(nc+1)]\n",
    "\n",
    "for p in prq:\n",
    "    graph[p[0]].append(p[1])\n",
    "\n",
    "vst = [False]*(nc+1)\n",
    "ord = []\n",
    "\n",
    "for crs in range (1,nc+1):\n",
    "    if not vst[crs]:\n",
    "        dfs(graph,vst,crs,ord)\n",
    "\n",
    "\n",
    "f2 = open('output1a_1.txt','w')\n",
    "print('---------------------------')\n",
    "if len(ord) == nc:\n",
    "    print(ord[::-1])\n",
    "    x = ord[::-1]\n",
    "    a = ' '.join(str(a) for a in x)\n",
    "    f2.write(a)\n",
    "    f2.write('\\n')\n",
    "else:\n",
    "    print(\"IMPOSSIBLE\")\n",
    "    f2.write(\"IMPOSSIBLE\")\n",
    "\n",
    "f2.close()\n",
    "\n"
   ]
  },
  {
   "cell_type": "code",
   "execution_count": 8,
   "metadata": {},
   "outputs": [
    {
     "name": "stdout",
     "output_type": "stream",
     "text": [
      "[[1, 2], [2, 3], [4, 3], [4, 5], [5, 6], [6, 4]]\n",
      "---------------------------\n",
      "[4, 5, 6, 1, 2, 3]\n"
     ]
    }
   ],
   "source": [
    "#SAMPLE2\n",
    "f1  = open('input1_a2.txt','r')\n",
    "inf = f1.read().split('\\n')\n",
    "\n",
    "firstline = inf[0].split(' ')\n",
    "nc = int(firstline[0])\n",
    "np = int(firstline[1])\n",
    "\n",
    "prq = []\n",
    "for i in range(1,np+1):\n",
    "    z = inf[i].split(' ')\n",
    "    a,b = int(z[0]),int(z[1])\n",
    "    prq.append([a,b])\n",
    "print(prq)\n",
    "\n",
    "graph = [[] for i in range(nc+1)]\n",
    "\n",
    "for p in prq:\n",
    "    graph[p[0]].append(p[1])\n",
    "\n",
    "vst = [False]*(nc+1)\n",
    "ord = []\n",
    "\n",
    "for crs in range (1,nc+1):\n",
    "    if not vst[crs]:\n",
    "        dfs(graph,vst,crs,ord)\n",
    "\n",
    "f2 = open('output1a_2.txt','w')\n",
    "print('---------------------------')\n",
    "if len(ord) == nc:\n",
    "    print(ord[::-1])\n",
    "    x = ord[::-1]\n",
    "    a = ' '.join(str(a) for a in x)\n",
    "    f2.write(a)\n",
    "    f2.write('\\n')\n",
    "else:\n",
    "    print(\"IMPOSSIBLE\")\n",
    "    f2.write(\"IMPOSSIBLE\")\n",
    "\n",
    "f2.close()\n",
    "\n",
    "\n",
    "#WHYYYY?"
   ]
  },
  {
   "cell_type": "code",
   "execution_count": 9,
   "metadata": {},
   "outputs": [
    {
     "name": "stdout",
     "output_type": "stream",
     "text": [
      "[[1, 2], [1, 4], [2, 4], [2, 5], [2, 3], [4, 6], [4, 5], [6, 5], [5, 3], [7, 8]]\n",
      "---------------------------\n",
      "[7, 8, 1, 2, 4, 6, 5, 3]\n"
     ]
    }
   ],
   "source": [
    "#SAMPLE3\n",
    "f1  = open('input1_a3.txt','r')\n",
    "inf = f1.read().split('\\n')\n",
    "\n",
    "firstline = inf[0].split(' ')\n",
    "nc = int(firstline[0])\n",
    "np = int(firstline[1])\n",
    "\n",
    "prq = []\n",
    "for i in range(1,np+1):\n",
    "    z = inf[i].split(' ')\n",
    "    a,b = int(z[0]),int(z[1])\n",
    "    prq.append([a,b])\n",
    "print(prq)\n",
    "\n",
    "graph = [[] for i in range(nc+1)]\n",
    "\n",
    "for p in prq:\n",
    "    graph[p[0]].append(p[1])\n",
    "\n",
    "vst = [False]*(nc+1)\n",
    "ord = []\n",
    "\n",
    "for crs in range (1,nc+1):\n",
    "    if not vst[crs]:\n",
    "        dfs(graph,vst,crs,ord)\n",
    "\n",
    "f2 = open('output1a_3.txt','w')\n",
    "print('---------------------------')\n",
    "if len(ord) == nc:\n",
    "    print(ord[::-1])\n",
    "    x = ord[::-1]\n",
    "    a = ' '.join(str(a) for a in x)\n",
    "    f2.write(a)\n",
    "    f2.write('\\n')\n",
    "else:\n",
    "    print(\"IMPOSSIBLE\")\n",
    "    f2.write(\"IMPOSSIBLE\")\n",
    "\n",
    "f2.close()\n",
    "\n"
   ]
  }
 ],
 "metadata": {
  "kernelspec": {
   "display_name": "Python 3",
   "language": "python",
   "name": "python3"
  },
  "language_info": {
   "codemirror_mode": {
    "name": "ipython",
    "version": 3
   },
   "file_extension": ".py",
   "mimetype": "text/x-python",
   "name": "python",
   "nbconvert_exporter": "python",
   "pygments_lexer": "ipython3",
   "version": "3.10.6"
  }
 },
 "nbformat": 4,
 "nbformat_minor": 2
}
