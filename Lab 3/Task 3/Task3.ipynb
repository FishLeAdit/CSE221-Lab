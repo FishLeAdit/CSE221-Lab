{
 "cells": [
  {
   "cell_type": "code",
   "execution_count": 24,
   "metadata": {},
   "outputs": [],
   "source": [
    "def pair(arr,st,en):\n",
    "    if st>=en:\n",
    "        return 0\n",
    "    mid = (st+en)//2\n",
    "    lt = pair(arr,st,mid)\n",
    "    rt = pair(arr,mid+1,en)\n",
    "\n",
    "    count = 0\n",
    "    for i in range(st,mid+1):\n",
    "        for j in range(mid+1,en+1):\n",
    "            if arr[i]>arr[j]:\n",
    "                count += 1\n",
    "    return lt + rt + count"
   ]
  },
  {
   "cell_type": "code",
   "execution_count": 25,
   "metadata": {},
   "outputs": [
    {
     "name": "stdout",
     "output_type": "stream",
     "text": [
      "[1, 2, 3, 4, 5]\n",
      "0\n"
     ]
    }
   ],
   "source": [
    "f1 = open('input3a.txt','r')\n",
    "inf = f1.read().split('\\n')\n",
    "lis = inf[1].split(' ')\n",
    "arr = []\n",
    "arr = [int(x) for x in lis]\n",
    "print(arr)\n",
    "\n",
    "numpa = pair(arr,0,len(arr)-1)\n",
    "print(numpa)\n",
    "\n",
    "f2 = open('output3a.txt','w')\n",
    "f2.write(str(numpa))\n",
    "f2.close()"
   ]
  },
  {
   "cell_type": "code",
   "execution_count": 21,
   "metadata": {},
   "outputs": [
    {
     "name": "stdout",
     "output_type": "stream",
     "text": [
      "[5, 4, 3, 2, 1]\n",
      "10\n"
     ]
    }
   ],
   "source": [
    "f1 = open('input3b.txt','r')\n",
    "inf = f1.read().split('\\n')\n",
    "lis = inf[1].split(' ')\n",
    "arr = []\n",
    "arr = [int(x) for x in lis]\n",
    "print(arr)\n",
    "\n",
    "numpa = pair(arr,0,len(arr)-1)\n",
    "print(numpa)\n",
    "\n",
    "f2 = open('output3b.txt','w')\n",
    "f2.write(str(numpa))\n",
    "f2.close()"
   ]
  },
  {
   "cell_type": "code",
   "execution_count": 22,
   "metadata": {},
   "outputs": [
    {
     "name": "stdout",
     "output_type": "stream",
     "text": [
      "[2, 7, 4, 1, 5, 6, 8, 3]\n",
      "11\n"
     ]
    }
   ],
   "source": [
    "f1 = open('input3c.txt','r')\n",
    "inf = f1.read().split('\\n')\n",
    "lis = inf[1].split(' ')\n",
    "arr = []\n",
    "arr = [int(x) for x in lis]\n",
    "print(arr)\n",
    "\n",
    "numpa = pair(arr,0,len(arr)-1)\n",
    "print(numpa)\n",
    "\n",
    "f2 = open('output3c.txt','w')\n",
    "f2.write(str(numpa))\n",
    "f2.close()"
   ]
  }
 ],
 "metadata": {
  "kernelspec": {
   "display_name": "Python 3",
   "language": "python",
   "name": "python3"
  },
  "language_info": {
   "codemirror_mode": {
    "name": "ipython",
    "version": 3
   },
   "file_extension": ".py",
   "mimetype": "text/x-python",
   "name": "python",
   "nbconvert_exporter": "python",
   "pygments_lexer": "ipython3",
   "version": "3.10.6"
  }
 },
 "nbformat": 4,
 "nbformat_minor": 2
}
