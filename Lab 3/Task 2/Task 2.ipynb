{
 "cells": [
  {
   "cell_type": "code",
   "execution_count": 14,
   "metadata": {},
   "outputs": [],
   "source": [
    "def find_maxval(arr,st,en):\n",
    "    if st == en:\n",
    "        return arr[st]\n",
    "    mid = (st+en)//2\n",
    "    max_left = find_maxval(arr,st,mid)\n",
    "    max_right = find_maxval(arr,mid+1,en)\n",
    "    return max(max_left,max_right)\n"
   ]
  },
  {
   "cell_type": "code",
   "execution_count": 15,
   "metadata": {},
   "outputs": [
    {
     "name": "stdout",
     "output_type": "stream",
     "text": [
      "13\n"
     ]
    }
   ],
   "source": [
    "#input1a\n",
    "f1 = open(\"input2a.txt\",\"r\")\n",
    "\n",
    "inf = f1.read().split('\\n')\n",
    "end = int(inf[0])\n",
    "lis = inf[1].split(' ')\n",
    "arr = []\n",
    "arr = [int(x) for x in lis]\n",
    "\n",
    "x = (find_maxval(arr,0,end-1))\n",
    "print(x)\n",
    "f2 = open('output2a.txt','w')\n",
    "f2.write(str(x))\n",
    "f2.close()"
   ]
  },
  {
   "cell_type": "code",
   "execution_count": 16,
   "metadata": {},
   "outputs": [
    {
     "name": "stdout",
     "output_type": "stream",
     "text": [
      "15\n"
     ]
    }
   ],
   "source": [
    "#input1a\n",
    "f1 = open(\"input2b.txt\",\"r\")\n",
    "\n",
    "inf = f1.read().split('\\n')\n",
    "end = int(inf[0])\n",
    "lis = inf[1].split(' ')\n",
    "arr = []\n",
    "arr = [int(x) for x in lis]\n",
    "\n",
    "x = (find_maxval(arr,0,end-1))\n",
    "print(x)\n",
    "f2 = open('output2b.txt','w')\n",
    "f2.write(str(x))\n",
    "f2.close()\n"
   ]
  },
  {
   "cell_type": "code",
   "execution_count": 17,
   "metadata": {},
   "outputs": [
    {
     "name": "stdout",
     "output_type": "stream",
     "text": [
      "9\n"
     ]
    }
   ],
   "source": [
    "#input1a\n",
    "f1 = open(\"input2c.txt\",\"r\")\n",
    "\n",
    "inf = f1.read().split('\\n')\n",
    "end = int(inf[0])\n",
    "lis = inf[1].split(' ')\n",
    "arr = []\n",
    "arr = [int(x) for x in lis]\n",
    "\n",
    "x = (find_maxval(arr,0,end-1))\n",
    "print(x)\n",
    "f2 = open('output2c.txt','w')\n",
    "f2.write(str(x))\n",
    "f2.close()"
   ]
  },
  {
   "cell_type": "code",
   "execution_count": 18,
   "metadata": {},
   "outputs": [
    {
     "name": "stdout",
     "output_type": "stream",
     "text": [
      "10\n"
     ]
    }
   ],
   "source": [
    "#input1a\n",
    "f1 = open(\"input2d.txt\",\"r\")\n",
    "\n",
    "inf = f1.read().split('\\n')\n",
    "end = int(inf[0])\n",
    "lis = inf[1].split(' ')\n",
    "arr = []\n",
    "arr = [int(x) for x in lis]\n",
    "\n",
    "x = (find_maxval(arr,0,end-1))\n",
    "print(x)\n",
    "f2 = open('output2d.txt','w')\n",
    "f2.write(str(x))\n",
    "f2.close()\n"
   ]
  }
 ],
 "metadata": {
  "kernelspec": {
   "display_name": "Python 3",
   "language": "python",
   "name": "python3"
  },
  "language_info": {
   "codemirror_mode": {
    "name": "ipython",
    "version": 3
   },
   "file_extension": ".py",
   "mimetype": "text/x-python",
   "name": "python",
   "nbconvert_exporter": "python",
   "pygments_lexer": "ipython3",
   "version": "3.10.6"
  }
 },
 "nbformat": 4,
 "nbformat_minor": 2
}
