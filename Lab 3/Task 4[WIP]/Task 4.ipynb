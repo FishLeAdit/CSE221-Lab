{
 "cells": [
  {
   "cell_type": "code",
   "execution_count": 1,
   "metadata": {},
   "outputs": [],
   "source": [
    "def calc_sec(left,right):\n",
    "    l_max = max(left)\n",
    "    right = [abs(i) for i in right]\n",
    "    r_max = max(right)\n",
    "    return int(l_max+r_max**2)\n",
    "def div_conc(arr):\n",
    "    if len(arr) == 2:\n",
    "        return arr[0] + arr[-1]**2\n",
    "    elif len(arr) < 2:\n",
    "        return 0\n",
    "    mid = len(arr)//2\n",
    "    left_res = div_conc(arr[:mid])\n",
    "    right_res  = div_conc(arr[mid:])\n",
    "    totsec = calc_sec(arr[:mid],arr[mid:])\n",
    "    return max(left_res,right_res,totsec)"
   ]
  },
  {
   "cell_type": "code",
   "execution_count": 2,
   "metadata": {},
   "outputs": [
    {
     "name": "stdout",
     "output_type": "stream",
     "text": [
      "5\n",
      "[9, 6, 5, 8, 2]\n",
      "-------\n",
      "73\n"
     ]
    }
   ],
   "source": [
    "#input 1\n",
    "f1 = open(\"input4a.txt\",\"r\")\n",
    "\n",
    "inf = f1.read().split('\\n')\n",
    "lis = inf[1].split(' ')\n",
    "arr = []\n",
    "arr = [int(x) for x in lis]\n",
    "l = int(inf[0])\n",
    "print(l)\n",
    "print(arr)\n",
    "print('-------')\n",
    "res = div_conc(arr)\n",
    "print(res)\n",
    "\n",
    "f2 = open(\"output4a.txt\",'w')\n",
    "f2.write(str(res))\n",
    "f2.close()\n"
   ]
  },
  {
   "cell_type": "code",
   "execution_count": 3,
   "metadata": {},
   "outputs": [
    {
     "name": "stdout",
     "output_type": "stream",
     "text": [
      "8\n",
      "[5, 10, 4, -3, 1, 6, -10, 2]\n",
      "-------\n",
      "110\n"
     ]
    }
   ],
   "source": [
    "#input 2\n",
    "f1 = open(\"input4b.txt\",\"r\")\n",
    "\n",
    "inf = f1.read().split('\\n')\n",
    "lis = inf[1].split(' ')\n",
    "arr = []\n",
    "arr = [int(x) for x in lis]\n",
    "l = int(inf[0])\n",
    "print(l)\n",
    "print(arr)\n",
    "print('-------')\n",
    "res = div_conc(arr)\n",
    "print(res)\n",
    "\n",
    "f2 = open(\"output4b.txt\",'w')\n",
    "f2.write(str(res))\n",
    "f2.close()"
   ]
  },
  {
   "cell_type": "code",
   "execution_count": 4,
   "metadata": {},
   "outputs": [
    {
     "name": "stdout",
     "output_type": "stream",
     "text": [
      "7\n",
      "[-5, -2, -6, -7, -1, 8, 2]\n",
      "-------\n",
      "63\n"
     ]
    }
   ],
   "source": [
    "#input 3\n",
    "f1 = open(\"input4c.txt\",\"r\")\n",
    "\n",
    "inf = f1.read().split('\\n')\n",
    "lis = inf[1].split(' ')\n",
    "arr = []\n",
    "arr = [int(x) for x in lis]\n",
    "l = int(inf[0])\n",
    "print(l)\n",
    "print(arr)\n",
    "print('-------')\n",
    "res = div_conc(arr)\n",
    "print(res)\n",
    "\n",
    "f2 = open(\"output4c.txt\",'w')\n",
    "f2.write(str(res))\n",
    "f2.close()"
   ]
  }
 ],
 "metadata": {
  "kernelspec": {
   "display_name": "Python 3",
   "language": "python",
   "name": "python3"
  },
  "language_info": {
   "codemirror_mode": {
    "name": "ipython",
    "version": 3
   },
   "file_extension": ".py",
   "mimetype": "text/x-python",
   "name": "python",
   "nbconvert_exporter": "python",
   "pygments_lexer": "ipython3",
   "version": "3.10.6"
  }
 },
 "nbformat": 4,
 "nbformat_minor": 2
}
