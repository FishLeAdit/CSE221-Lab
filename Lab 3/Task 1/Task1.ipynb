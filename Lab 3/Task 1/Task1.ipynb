{
 "cells": [
  {
   "cell_type": "code",
   "execution_count": 1,
   "metadata": {},
   "outputs": [],
   "source": [
    "def merge(a, b):\n",
    "       merg_sort = []\n",
    "       i,j = 0,0\n",
    "       while i<len(a) and j<len(b):\n",
    "            if a[i]<b[j]:\n",
    "                 merg_sort.append(a[i])\n",
    "                 i += 1\n",
    "            else:\n",
    "                 merg_sort.append(b[j])\n",
    "                 j += 1     \n",
    "       while i<len(a):\n",
    "            merg_sort.append(a[i])\n",
    "            i += 1\n",
    "       while j<len(b):\n",
    "            merg_sort.append(b[j])\n",
    "            j += 1\n",
    "       \n",
    "    \n",
    "       return merg_sort\n",
    "\n",
    "def mergeSort(arr):\n",
    "    if len(arr) <= 1:\n",
    "        return arr\n",
    "    else:\n",
    "        mid = len(arr)//2\n",
    "        \n",
    "        a1 = mergeSort(arr[:mid])  # write the parameter \n",
    "        a2 = mergeSort(arr[mid:])  # write the parameter\n",
    "        \n",
    "        return merge(a1, a2)          # complete the merge function above \n",
    "\n"
   ]
  },
  {
   "cell_type": "code",
   "execution_count": 2,
   "metadata": {},
   "outputs": [
    {
     "name": "stdout",
     "output_type": "stream",
     "text": [
      "[9, 5, 4, 6, 1, 3, 2, 9]\n",
      "[1, 2, 3, 4, 5, 6, 9, 9]\n"
     ]
    }
   ],
   "source": [
    "#input 1\n",
    "f1 = open(\"input1a.txt\",\"r\")\n",
    "\n",
    "inf = f1.read().split('\\n')\n",
    "lis = inf[1].split(' ')\n",
    "arr = []\n",
    "arr = [int(x) for x in lis]\n",
    "print(arr)\n",
    "sorted_arr = mergeSort(arr)\n",
    "print(sorted_arr)\n",
    "\n",
    "f2 = open('output1a.txt','w')\n",
    "for i in sorted_arr:\n",
    "\n",
    "    f2.write(f\"{i} \")\n",
    "f2.close()"
   ]
  },
  {
   "cell_type": "code",
   "execution_count": 51,
   "metadata": {},
   "outputs": [
    {
     "name": "stdout",
     "output_type": "stream",
     "text": [
      "[10]\n",
      "[10]\n"
     ]
    }
   ],
   "source": [
    "#input 2\n",
    "f1 = open(\"input1b.txt\",\"r\")\n",
    "inf = f1.read().split('\\n')\n",
    "lis = inf[1].split(' ')\n",
    "arr = []\n",
    "arr = [int(x) for x in lis]\n",
    "print(arr)\n",
    "\n",
    "\n",
    "sorted_arr = mergeSort(arr)\n",
    "print(sorted_arr)\n",
    "\n",
    "f2 = open('output1b.txt','w')\n",
    "for i in sorted_arr:\n",
    "\n",
    "    f2.write(f\"{i} \")\n",
    "f2.close()"
   ]
  },
  {
   "cell_type": "code",
   "execution_count": 53,
   "metadata": {},
   "outputs": [
    {
     "name": "stdout",
     "output_type": "stream",
     "text": [
      "[8, 1, 4, 2, 1, 3]\n",
      "[1, 1, 2, 3, 4, 8]\n"
     ]
    }
   ],
   "source": [
    "#input 1\n",
    "f1 = open(\"input1c.txt\",\"r\")\n",
    "inf = f1.read().split('\\n')\n",
    "lis = inf[1].split(' ')\n",
    "arr = []\n",
    "arr = [int(x) for x in lis]\n",
    "print(arr)\n",
    "\n",
    "\n",
    "sorted_arr = mergeSort(arr)\n",
    "print(sorted_arr)\n",
    "\n",
    "f2 = open('output1c.txt','w')\n",
    "for i in sorted_arr:\n",
    "\n",
    "    f2.write(f\"{i} \")\n",
    "f2.close()"
   ]
  },
  {
   "cell_type": "code",
   "execution_count": 54,
   "metadata": {},
   "outputs": [
    {
     "name": "stdout",
     "output_type": "stream",
     "text": [
      "[7, 6, 5, 4, 3, 2, 1]\n",
      "[1, 2, 3, 4, 5, 6, 7]\n"
     ]
    }
   ],
   "source": [
    "#input 1\n",
    "f1 = open(\"input1d.txt\",\"r\")\n",
    "inf = f1.read().split('\\n')\n",
    "lis = inf[1].split(' ')\n",
    "arr = []\n",
    "arr = [int(x) for x in lis]\n",
    "print(arr)\n",
    "\n",
    "\n",
    "sorted_arr = mergeSort(arr)\n",
    "print(sorted_arr)\n",
    "\n",
    "f2 = open('output1d.txt','w')\n",
    "for i in sorted_arr:\n",
    "\n",
    "    f2.write(f\"{i} \")\n",
    "f2.close()"
   ]
  }
 ],
 "metadata": {
  "kernelspec": {
   "display_name": "Python 3",
   "language": "python",
   "name": "python3"
  },
  "language_info": {
   "codemirror_mode": {
    "name": "ipython",
    "version": 3
   },
   "file_extension": ".py",
   "mimetype": "text/x-python",
   "name": "python",
   "nbconvert_exporter": "python",
   "pygments_lexer": "ipython3",
   "version": "3.10.6"
  }
 },
 "nbformat": 4,
 "nbformat_minor": 2
}
