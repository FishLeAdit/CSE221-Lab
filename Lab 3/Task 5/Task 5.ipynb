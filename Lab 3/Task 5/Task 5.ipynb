{
 "cells": [
  {
   "cell_type": "code",
   "execution_count": 3,
   "metadata": {},
   "outputs": [],
   "source": [
    "def quicksort(a,p,r):\n",
    "    if p<r:\n",
    "        q = partition(a,p,r)\n",
    "        quicksort(a,p,q-1)\n",
    "        quicksort(a,q+1,r)\n",
    "def partition(a,p,r):\n",
    "    x = a[r]\n",
    "    i = p-1\n",
    "    for j in range(p,r):\n",
    "        if a[j]<=x:\n",
    "            i = i + 1\n",
    "            a[i],a[j] = a[j],a[i]\n",
    "    a[i+1],a[r] = a[r],a[i+1]\n",
    "    return i+1\n"
   ]
  },
  {
   "cell_type": "code",
   "execution_count": 8,
   "metadata": {},
   "outputs": [
    {
     "name": "stdout",
     "output_type": "stream",
     "text": [
      "[9, 5, 4, 6, 1, 3, 2, 9]\n",
      "[1, 2, 3, 4, 5, 6, 9, 9]\n"
     ]
    }
   ],
   "source": [
    "f1 = open('input5a.txt','r')\n",
    "inf = f1.read().split('\\n')\n",
    "lis = inf[1].split(' ')\n",
    "arr = []\n",
    "arr = [int(x) for x in lis]\n",
    "print(arr)\n",
    "\n",
    "numso = quicksort(arr,0,len(arr)-1)\n",
    "print(arr)\n",
    "\n",
    "f2 = open('output5a.txt','w')\n",
    "f2.write(str(arr))\n",
    "f2.close()"
   ]
  },
  {
   "cell_type": "code",
   "execution_count": 9,
   "metadata": {},
   "outputs": [
    {
     "name": "stdout",
     "output_type": "stream",
     "text": [
      "[10]\n",
      "[10]\n"
     ]
    }
   ],
   "source": [
    "f1 = open('input5b.txt','r')\n",
    "inf = f1.read().split('\\n')\n",
    "lis = inf[1].split(' ')\n",
    "arr = []\n",
    "arr = [int(x) for x in lis]\n",
    "print(arr)\n",
    "\n",
    "numso = quicksort(arr,0,len(arr)-1)\n",
    "print(arr)\n",
    "\n",
    "f2 = open('output5b.txt','w')\n",
    "f2.write(str(arr))\n",
    "f2.close()"
   ]
  },
  {
   "cell_type": "code",
   "execution_count": 10,
   "metadata": {},
   "outputs": [
    {
     "name": "stdout",
     "output_type": "stream",
     "text": [
      "[8, 1, 4, 2, 1, 3]\n",
      "[1, 1, 2, 3, 4, 8]\n"
     ]
    }
   ],
   "source": [
    "f1 = open('input5c.txt','r')\n",
    "inf = f1.read().split('\\n')\n",
    "lis = inf[1].split(' ')\n",
    "arr = []\n",
    "arr = [int(x) for x in lis]\n",
    "print(arr)\n",
    "\n",
    "numso = quicksort(arr,0,len(arr)-1)\n",
    "print(arr)\n",
    "\n",
    "f2 = open('output5c.txt','w')\n",
    "f2.write(str(arr))\n",
    "f2.close()"
   ]
  },
  {
   "cell_type": "code",
   "execution_count": 11,
   "metadata": {},
   "outputs": [
    {
     "name": "stdout",
     "output_type": "stream",
     "text": [
      "[7, 6, 5, 4, 3, 2, 1]\n",
      "[1, 2, 3, 4, 5, 6, 7]\n"
     ]
    }
   ],
   "source": [
    "f1 = open('input5d.txt','r')\n",
    "inf = f1.read().split('\\n')\n",
    "lis = inf[1].split(' ')\n",
    "arr = []\n",
    "arr = [int(x) for x in lis]\n",
    "print(arr)\n",
    "\n",
    "numso = quicksort(arr,0,len(arr)-1)\n",
    "print(arr)\n",
    "\n",
    "f2 = open('output5d.txt','w')\n",
    "f2.write(str(arr))\n",
    "f2.close()"
   ]
  }
 ],
 "metadata": {
  "kernelspec": {
   "display_name": "Python 3",
   "language": "python",
   "name": "python3"
  },
  "language_info": {
   "codemirror_mode": {
    "name": "ipython",
    "version": 3
   },
   "file_extension": ".py",
   "mimetype": "text/x-python",
   "name": "python",
   "nbconvert_exporter": "python",
   "pygments_lexer": "ipython3",
   "version": "3.10.6"
  }
 },
 "nbformat": 4,
 "nbformat_minor": 2
}
