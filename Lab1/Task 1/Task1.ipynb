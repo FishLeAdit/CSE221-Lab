{
 "cells": [
  {
   "cell_type": "code",
   "execution_count": 5,
   "metadata": {},
   "outputs": [],
   "source": [
    "#1a\n",
    "file1 = open(\"input1a.txt\",'r')\n",
    "file1 = file1.read().split('\\n')\n",
    "data = []\n",
    "for i in range(1,len(file1)):\n",
    "    data.append(int(file1[i]))\n",
    "\n",
    "file2 = open(\"output1a.txt\",'w')\n",
    "\n",
    "for i in data:\n",
    "    if i%2 == 0:\n",
    "        s = f\"{i} is an Even number.\\n\"\n",
    "    else:\n",
    "        s = f\"{i} is an Odd number.\\n\"\n",
    "    file2.write(s)\n",
    "file2.close()"
   ]
  },
  {
   "cell_type": "markdown",
   "metadata": {},
   "source": [
    "The code here reads integers in the file provided, and then seperates them as individual integers and stores them within a list.\n",
    "It then goes through the list, and determines if the integer is even or odd, writing the answer in the output file as the loop goes"
   ]
  },
  {
   "cell_type": "code",
   "execution_count": 1,
   "metadata": {},
   "outputs": [],
   "source": [
    "#1b\n",
    "file3 = open(\"input1b.txt\",\"r\")\n",
    "file3 = file3.read().split('\\n')\n",
    "len = file3[0]\n",
    "\n",
    "len  = int(len)\n",
    "file4 = open('output2a.txt','w')\n",
    "for i in range(1,len+1):\n",
    "    line = file3[i].split(\" \")\n",
    "    \n",
    "    if   line[2] == '+':\n",
    "        res = int(line[1]) + int(line[3])\n",
    "    elif line[2] == '-':\n",
    "        res = int(line[1]) - int(line[3])\n",
    "    elif line[2] ==  '*':\n",
    "        res = int(line[1]) * int(line[3])\n",
    "    elif line[2] == '/':\n",
    "        res = int(line[1]) / int(line[3])\n",
    "    s = f\"The result of {int(line[1])} {(line[2])} {int(line[3])} is {res}\\n\"\n",
    "    file4.write(s)\n",
    "file4.close()\n",
    "\n"
   ]
  },
  {
   "cell_type": "markdown",
   "metadata": {},
   "source": [
    "The code here reads each line from the input file, and then seperates them into individual operators, after which the individual operators are used to solve arithmentic operations specified in the input file, with the solutions being offloaded into an output file."
   ]
  }
 ],
 "metadata": {
  "kernelspec": {
   "display_name": "Python 3",
   "language": "python",
   "name": "python3"
  },
  "language_info": {
   "codemirror_mode": {
    "name": "ipython",
    "version": 3
   },
   "file_extension": ".py",
   "mimetype": "text/x-python",
   "name": "python",
   "nbconvert_exporter": "python",
   "pygments_lexer": "ipython3",
   "version": "3.10.6"
  }
 },
 "nbformat": 4,
 "nbformat_minor": 2
}
