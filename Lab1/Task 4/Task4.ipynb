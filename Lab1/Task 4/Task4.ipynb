{
 "cells": [
  {
   "cell_type": "code",
   "execution_count": 28,
   "metadata": {},
   "outputs": [],
   "source": [
    "file1 = open(\"input4.txt\",'r')\n",
    "file2 = open(\"output4.txt\",'w')\n",
    "\n",
    "file1 = file1.read().split('\\n')\n",
    "\n",
    "\n",
    "data = []\n",
    "for i in range(1,len(file1)):\n",
    "    \n",
    "    traindet = file1[i].split(\" \")\n",
    "    tr = traindet[0]\n",
    "    ds = traindet[4]\n",
    "    tm = traindet[6]\n",
    "    \n",
    "    data.append([tr,ds,tm])\n",
    "\n",
    "\n",
    "for i in range(1,len(data)):\n",
    "    #porer ta diye shuru korle maybe I'll be better off\n",
    "    tr = data[i][0]\n",
    "    ds = data[i][1]\n",
    "    tm = data[i][2]\n",
    "    ptr = data[i-1][0]\n",
    "    pds = data[i-1][1]\n",
    "    ptm = data[i-1][2]\n",
    "    \n",
    "    tm_hr = tm.split(\":\")[0]\n",
    "    tm_mn = tm.split(\":\")[1]\n",
    "\n",
    "    ptm_hr = ptm.split(\":\")[0]\n",
    "    ptm_mn = ptm.split(\":\")[1]\n",
    "    \n",
    "    j = i-1\n",
    "    while j>=0 and (ptr>tr or (ptr == tr and ptm_hr < tm_hr)):\n",
    "        data[j+1] = data[j]\n",
    "        j-=1\n",
    "        ptr = data[j][0]\n",
    "        pds = data[j][1]\n",
    "        ptm = data[j][2]\n",
    "        ptm_hr = ptm.split(\":\")[0]\n",
    "        ptm_mn = ptm.split(\":\")[1]\n",
    "    data[j+1] = (tr,ds,tm)\n",
    "\n",
    "for i in range(len(data)):\n",
    "    s = f\"{data[i][0]} will departure for {data[i][1]} at {data[i][2]}\\n\"\n",
    "    file2.write(s)\n",
    "file2.close()\n",
    "        \n"
   ]
  },
  {
   "cell_type": "markdown",
   "metadata": {},
   "source": [
    "This code uses the insertion sorting method to sort the train data based on criterias like name, destination and time. \n",
    "It takes data from the given input file, and then sorts it based on its first character, then the latest departure and time, prioritywise.\n",
    "The sorting is performed within a while loop, comparing the current data with the previous one, sorting until the correct arrangement is found, after which the data is offloaded into an output text file."
   ]
  }
 ],
 "metadata": {
  "kernelspec": {
   "display_name": "Python 3",
   "language": "python",
   "name": "python3"
  },
  "language_info": {
   "codemirror_mode": {
    "name": "ipython",
    "version": 3
   },
   "file_extension": ".py",
   "mimetype": "text/x-python",
   "name": "python",
   "nbconvert_exporter": "python",
   "pygments_lexer": "ipython3",
   "version": "3.10.6"
  }
 },
 "nbformat": 4,
 "nbformat_minor": 2
}
