{
 "cells": [
  {
   "cell_type": "code",
   "execution_count": 1,
   "metadata": {},
   "outputs": [
    {
     "name": "stdout",
     "output_type": "stream",
     "text": [
      "['50', '4']\n",
      "['50', '9']\n",
      "['40', '7']\n",
      "['20', '3']\n",
      "['10', '1']\n",
      "['10', '2']\n",
      "['10', '5']\n",
      "['80', '5']\n",
      "['80', '7']\n",
      "['60', '2']\n",
      "['50', '3']\n"
     ]
    }
   ],
   "source": [
    "def marksort(data,len):\n",
    "    for i in range(1,len):\n",
    "        mar,id = data[i]\n",
    "        j = i - 1\n",
    "        pmar,pid = data[j][0],data[j][1]\n",
    "        while j>=0 and (int(pmar)<int(mar) or (int(pmar)==int(mar) and int(pid)>int(id))):\n",
    "            data[j+1] = data[j]\n",
    "            j -=1\n",
    "            pmar,pid = data[j][0],data[j][1]\n",
    "        data[j+1] = [mar,id]\n",
    "    return data\n",
    "\n",
    "def aladafication(file,len):\n",
    "    idli = file[1].split(\" \")\n",
    "    bashli = file[2].split(\" \")\n",
    "    data = []\n",
    "    for i in range(0,len):\n",
    "        data.append([bashli[i], idli[i]])\n",
    "    return(data)\n",
    "    \n",
    "\n",
    "file1 = open(\"input3a.txt\",'r')\n",
    "file1 = file1.read().split('\\n')\n",
    "file2 = open(\"output3a.txt\",'w')\n",
    "len = int(file1[0])\n",
    "data = aladafication(file1,len)\n",
    "sorteddata = marksort(data,len)\n",
    "for i in range(len):\n",
    "    nom = sorteddata[i]\n",
    "    \n",
    "    s = f\"ID: {nom[1]} Mark: {nom[0]}\\n\"\n",
    "    file2.write(s)\n",
    "file2.close()\n",
    "\n",
    "file1 = open(\"input3b.txt\",'r')\n",
    "file1 = file1.read().split('\\n')\n",
    "file2 = open(\"output3b.txt\",'w')\n",
    "len = int(file1[0])\n",
    "data = aladafication(file1,len)\n",
    "sorteddata = marksort(data,len)\n",
    "for i in range(len):\n",
    "    nom = sorteddata[i]\n",
    "    \n",
    "    s = f\"ID: {nom[1]} Mark: {nom[0]}\\n\"\n",
    "    file2.write(s)\n",
    "file2.close()\n",
    "\n",
    "\n"
   ]
  },
  {
   "cell_type": "markdown",
   "metadata": {},
   "source": [
    "This code has two functions, with the 'marksort' function being the main key to solve the task at hand. The 'aladafication' function takes an input file, and the length of the data to go through as specified within the file., and extracts two seperated strings from the file as it loops through the length of the data, representing ID and marks, before combining them all as pairs within a list. The list is then used by the 'marksort' function, which sorts the data based in the list based on marks in a descending order by comparing the current sub-list in the data loop, with the one to its left."
   ]
  }
 ],
 "metadata": {
  "kernelspec": {
   "display_name": "Python 3",
   "language": "python",
   "name": "python3"
  },
  "language_info": {
   "codemirror_mode": {
    "name": "ipython",
    "version": 3
   },
   "file_extension": ".py",
   "mimetype": "text/x-python",
   "name": "python",
   "nbconvert_exporter": "python",
   "pygments_lexer": "ipython3",
   "version": "3.10.6"
  }
 },
 "nbformat": 4,
 "nbformat_minor": 2
}
