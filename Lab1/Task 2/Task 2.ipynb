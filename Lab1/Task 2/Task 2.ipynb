{
 "cells": [
  {
   "cell_type": "code",
   "execution_count": 6,
   "metadata": {},
   "outputs": [],
   "source": [
    "def bubbleSort(arr):\n",
    "    sor = False  \n",
    "    l = len(arr)                                              \n",
    "    for i in range(l-1):\n",
    "        sor = False\n",
    "        for j in range(l-i-1): \n",
    "            if int(arr[j]) > int(arr[j+1]):\n",
    "                arr[j], arr[j+1] = arr[j+1], arr[j]\n",
    "                sor = True\n",
    "        if sor == False:\n",
    "            break\n",
    "    return arr\n",
    "\n",
    "file1 = open(\"input2a.txt\",\"r\")\n",
    "file2 = open(\"output2a.txt\",\"w\")\n",
    "arr = file1.read().split(\"\\n\")[1]\n",
    "arr = arr.split(\" \")\n",
    "sortedarray = bubbleSort(arr)\n",
    "file2.write(str(sortedarray))\n",
    "file1.close()\n",
    "file2.close()\n",
    "\n",
    "file1 = open(\"input2b.txt\",\"r\")\n",
    "file2 = open(\"output2b.txt\",\"w\")\n",
    "arr = file1.read().split(\"\\n\")[1]\n",
    "arr = arr.split(\" \")\n",
    "sortedarray = bubbleSort(arr)\n",
    "file2.write(str(sortedarray))\n",
    "file1.close()\n",
    "file2.close()\n"
   ]
  },
  {
   "cell_type": "markdown",
   "metadata": {},
   "source": [
    "The code here is a bubbel sort algorithm to sort integers provided through the text files. The sorting is done through a loop, which breaks once the sorting process is done after being signified by the sor flag. The finished list is then offloaded into output text files"
   ]
  }
 ],
 "metadata": {
  "kernelspec": {
   "display_name": "Python 3",
   "language": "python",
   "name": "python3"
  },
  "language_info": {
   "codemirror_mode": {
    "name": "ipython",
    "version": 3
   },
   "file_extension": ".py",
   "mimetype": "text/x-python",
   "name": "python",
   "nbconvert_exporter": "python",
   "pygments_lexer": "ipython3",
   "version": "3.10.6"
  }
 },
 "nbformat": 4,
 "nbformat_minor": 2
}
