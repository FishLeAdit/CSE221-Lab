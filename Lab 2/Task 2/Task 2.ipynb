{
 "cells": [
  {
   "cell_type": "code",
   "execution_count": 29,
   "metadata": {},
   "outputs": [],
   "source": [
    "def sortmerg(len1,li1,len2,li2,tlen):\n",
    "    merg = []\n",
    "    a = 0\n",
    "    b = 0\n",
    "    \n",
    "    for i in range(tlen):\n",
    "        if a<len1 and b<len2:\n",
    "            if int(li1[a]) < int(li2[b]):\n",
    "                merg.append(li1[a])\n",
    "                a += 1\n",
    "            else:\n",
    "                merg.append(li2[b])\n",
    "                b += 1\n",
    "    if a<len1:\n",
    "        merg.extend(li2[b:])\n",
    "    elif b<len2:\n",
    "        merg.extend(li1[a:])\n",
    "    return(merg)"
   ]
  },
  {
   "cell_type": "code",
   "execution_count": 30,
   "metadata": {},
   "outputs": [],
   "source": [
    "f1 = open(\"input1.txt\",'r')\n",
    "f1_o = open('output1.txt','w')\n",
    "inf = f1.read().split('\\n')\n",
    "\n",
    "len1 = int(inf[0])\n",
    "li1 = inf[1].split(' ')\n",
    "len2 = int(inf[2])\n",
    "li2 = inf[3].split(' ')\n",
    "tlen = len1 + len2\n",
    "\n",
    "merg = sortmerg(len1,li1,len2,li2,tlen)\n",
    "\n",
    "f1_o.write(str(merg))\n",
    "f1_o.close()\n",
    "f1.close()\n",
    "\n"
   ]
  },
  {
   "cell_type": "code",
   "execution_count": 31,
   "metadata": {},
   "outputs": [],
   "source": [
    "f1 = open(\"input2.txt\",'r')\n",
    "f1_o = open('output2.txt','w')\n",
    "inf = f1.read().split('\\n')\n",
    "\n",
    "len1 = int(inf[0])\n",
    "li1 = inf[1].split(' ')\n",
    "len2 = int(inf[2])\n",
    "li2 = inf[3].split(' ')\n",
    "tlen = len1 + len2\n",
    "\n",
    "merg = sortmerg(len1,li1,len2,li2,tlen)\n",
    "\n",
    "f1_o.write(str(merg))\n",
    "f1_o.close()\n",
    "f1.close()\n",
    "\n"
   ]
  },
  {
   "cell_type": "markdown",
   "metadata": {},
   "source": [
    "Hold ya horses with this one"
   ]
  }
 ],
 "metadata": {
  "kernelspec": {
   "display_name": "Python 3",
   "language": "python",
   "name": "python3"
  },
  "language_info": {
   "codemirror_mode": {
    "name": "ipython",
    "version": 3
   },
   "file_extension": ".py",
   "mimetype": "text/x-python",
   "name": "python",
   "nbconvert_exporter": "python",
   "pygments_lexer": "ipython3",
   "version": "3.10.6"
  }
 },
 "nbformat": 4,
 "nbformat_minor": 2
}
