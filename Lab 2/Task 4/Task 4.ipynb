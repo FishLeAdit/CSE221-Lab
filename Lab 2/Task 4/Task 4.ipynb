{
 "cells": [
  {
   "cell_type": "code",
   "execution_count": 1,
   "metadata": {},
   "outputs": [],
   "source": [
    "def greedpeeps(n_act,n_peep,mt,f2):\n",
    "    n = n_act #Num o work\n",
    "    m = n_peep #Num o peeps\n",
    "    lst = mt\n",
    "    \n",
    "    peeps = [0]*m\n",
    "    stufftodo = []\n",
    "    for i in lst:\n",
    "        i[0], i[1] = i[1],i[0]\n",
    "    \n",
    "    lst.sort()\n",
    "    for i in lst:\n",
    "        i[0], i[1] = i[1],i[0]\n",
    "    print(lst)\n",
    "    \n",
    "\n",
    "    c = 0\n",
    "    \n",
    "    for i in lst:\n",
    "        for j in range(len(peeps)):\n",
    "            if (peeps[j])<=int(i[0]):\n",
    "                (peeps[j]) = int(i[1])\n",
    "                c += 1\n",
    "                break\n",
    "\n",
    "    print(c)\n",
    "    f2.write(str(c))\n"
   ]
  },
  {
   "cell_type": "code",
   "execution_count": 2,
   "metadata": {},
   "outputs": [
    {
     "name": "stdout",
     "output_type": "stream",
     "text": [
      "[[1, 5], [3, 6], [2, 5], [8, 10], [6, 9]]\n",
      "[[1, 5], [2, 5], [3, 6], [6, 9], [8, 10]]\n",
      "4\n"
     ]
    }
   ],
   "source": [
    "f1 = open(\"input1.txt\",\"r\")\n",
    "f2 = open(\"output1.txt\",'w')\n",
    "\n",
    "inf = f1.read().split('\\n')\n",
    "lin1 = inf[0].split(' ')\n",
    "n_act = int(lin1[0])\n",
    "n_peep = int(lin1[1])\n",
    "\n",
    "mt = []\n",
    "for i in inf[1::]:\n",
    "    \n",
    "    mt.append(i.split(' '))\n",
    "mt = [[int(x) for x in j] for j in mt]\n",
    "print(mt)\n",
    "\n",
    "\n",
    "greedpeeps(n_act,n_peep,mt,f2)\n",
    "f1.close()\n",
    "f2.close()\n"
   ]
  },
  {
   "cell_type": "code",
   "execution_count": 3,
   "metadata": {},
   "outputs": [
    {
     "name": "stdout",
     "output_type": "stream",
     "text": [
      "[[1, 4], [2, 5], [3, 6], [6, 7], [4, 8]]\n",
      "3\n"
     ]
    }
   ],
   "source": [
    "f1 = open(\"input2.txt\",\"r\")\n",
    "f2 = open(\"output2.txt\",'w')\n",
    "\n",
    "inf = f1.read().split('\\n')\n",
    "lin1 = inf[0].split(' ')\n",
    "n_act = int(lin1[0])\n",
    "n_peep = int(lin1[1])\n",
    "\n",
    "mt = []\n",
    "for i in inf[1::]:\n",
    "    mt.append(i.split(' '))\n",
    "mt = [[int(x) for x in j] for j in mt]\n",
    "\n",
    "\n",
    "\n",
    "greedpeeps(n_act,n_peep,mt,f2)\n",
    "#really can't get around what's wrong here\n",
    "f1.close()\n",
    "f2.close()\n",
    "#eitay dishtaab ken?\n"
   ]
  },
  {
   "cell_type": "code",
   "execution_count": 87,
   "metadata": {},
   "outputs": [
    {
     "name": "stdout",
     "output_type": "stream",
     "text": [
      "[[1, 5], [4, 10], [9, 11], [12, 15], [8, 17], [14, 18]]\n",
      "5\n"
     ]
    }
   ],
   "source": [
    "f1 = open(\"input3.txt\",\"r\")\n",
    "f2 = open(\"output3.txt\",'w')\n",
    "\n",
    "inf = f1.read().split('\\n')\n",
    "lin1 = inf[0].split(' ')\n",
    "n_act = int(lin1[0])\n",
    "n_peep = int(lin1[1])\n",
    "\n",
    "mt = []\n",
    "for i in inf[1::]:\n",
    "    mt.append(i.split(' '))\n",
    "\n",
    "mt = [[int(x) for x in j] for j in mt]\n",
    "\n",
    "greedpeeps(n_act,n_peep,mt,f2)\n",
    "f1.close()\n",
    "f2.close()"
   ]
  },
  {
   "cell_type": "code",
   "execution_count": 88,
   "metadata": {},
   "outputs": [
    {
     "name": "stdout",
     "output_type": "stream",
     "text": [
      "[[3, 6], [6, 7], [4, 8], [1, 10], [2, 10]]\n",
      "3\n"
     ]
    }
   ],
   "source": [
    "f1 = open(\"input4.txt\",\"r\")\n",
    "f2 = open(\"output4.txt\",'w')\n",
    "\n",
    "inf = f1.read().split('\\n')\n",
    "lin1 = inf[0].split(' ')\n",
    "n_act = int(lin1[0])\n",
    "n_peep = int(lin1[1])\n",
    "\n",
    "mt = []\n",
    "for i in inf[1::]:\n",
    "    mt.append(i.split(' '))\n",
    "\n",
    "mt = [[int(x) for x in j] for j in mt]\n",
    "\n",
    "greedpeeps(n_act,n_peep,mt,f2)\n",
    "f1.close()\n",
    "f2.close()"
   ]
  },
  {
   "cell_type": "code",
   "execution_count": 89,
   "metadata": {},
   "outputs": [
    {
     "name": "stdout",
     "output_type": "stream",
     "text": [
      "[[1, 3], [2, 4], [3, 5], [2, 6], [5, 7], [6, 8], [7, 9], [8, 10]]\n",
      "8\n"
     ]
    }
   ],
   "source": [
    "f1 = open(\"input5.txt\",\"r\")\n",
    "f2 = open(\"output5.txt\",'w')\n",
    "\n",
    "inf = f1.read().split('\\n')\n",
    "lin1 = inf[0].split(' ')\n",
    "n_act = int(lin1[0])\n",
    "n_peep = int(lin1[1])\n",
    "\n",
    "mt = []\n",
    "for i in inf[1::]:\n",
    "    mt.append(i.split(' '))\n",
    "\n",
    "mt = [[int(x) for x in j] for j in mt]\n",
    "\n",
    "greedpeeps(n_act,n_peep,mt,f2)\n",
    "f1.close()\n",
    "f2.close()"
   ]
  },
  {
   "cell_type": "code",
   "execution_count": null,
   "metadata": {},
   "outputs": [],
   "source": [
    "#DONE"
   ]
  }
 ],
 "metadata": {
  "kernelspec": {
   "display_name": "Python 3",
   "language": "python",
   "name": "python3"
  },
  "language_info": {
   "codemirror_mode": {
    "name": "ipython",
    "version": 3
   },
   "file_extension": ".py",
   "mimetype": "text/x-python",
   "name": "python",
   "nbconvert_exporter": "python",
   "pygments_lexer": "ipython3",
   "version": "3.10.6"
  }
 },
 "nbformat": 4,
 "nbformat_minor": 2
}
