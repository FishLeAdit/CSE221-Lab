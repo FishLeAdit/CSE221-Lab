{
 "cells": [
  {
   "cell_type": "code",
   "execution_count": 77,
   "metadata": {},
   "outputs": [],
   "source": [
    "#Take a break with this one\n",
    "def timesort(nt,mt,f2):\n",
    "    n = 0\n",
    "    finli = []\n",
    "    ft = int(mt[0][0])\n",
    "    fft = int(mt[0][1])\n",
    "    if (fft - ft) <= 3: \n",
    "        finli.append(mt[0])\n",
    "        n += 1\n",
    "    else:\n",
    "        ft = int(mt[1][0])\n",
    "        fft = int(mt[1][1])\n",
    "    \n",
    "    \n",
    "    \n",
    "    for i in mt[1::]:\n",
    "        if int(i[0]) <= fft and (int(i[1])-int(i[0]) >= 3) :\n",
    "            pass\n",
    "        else:\n",
    "            if i not in finli:  \n",
    "                finli.append(i)\n",
    "                ft = int(i[0])\n",
    "                fft = int(i[1])\n",
    "                n += 1\n",
    "    print(n)\n",
    "    f2.write(f\"{n}\\n\")\n",
    "    print(finli)\n",
    "    for x in finli:\n",
    "       \n",
    "       for j in x:\n",
    "         f2.write(f\"{j} \")\n",
    "       f2.write('\\n') \n",
    "\n",
    "\n",
    "    \n",
    "    \n",
    "    "
   ]
  },
  {
   "cell_type": "code",
   "execution_count": 78,
   "metadata": {},
   "outputs": [
    {
     "name": "stdout",
     "output_type": "stream",
     "text": [
      "[['1', '3'], ['2', '5'], ['3', '7'], ['4', '6'], ['6', '8'], ['7', '9']]\n",
      "4\n",
      "[['1', '3'], ['4', '6'], ['6', '8'], ['7', '9']]\n"
     ]
    }
   ],
   "source": [
    "f1 = open(\"input1.txt\",'r')\n",
    "f2 = open(\"output1.txt\",'w')\n",
    "inf = f1.read().split('\\n')\n",
    "nt = int(inf[0])\n",
    "\n",
    "mt = []\n",
    "for i in (inf[1::]):\n",
    "    mt.append(i.split(' '))\n",
    "print(mt)\n",
    "\n",
    "timesort(nt,mt,f2)\n",
    "\n",
    "f1.close()\n",
    "f2.close()"
   ]
  },
  {
   "cell_type": "code",
   "execution_count": 79,
   "metadata": {},
   "outputs": [
    {
     "name": "stdout",
     "output_type": "stream",
     "text": [
      "[['1', '4'], ['2', '5'], ['3', '6'], ['4', '8'], ['6', '7']]\n",
      "2\n",
      "[['1', '4'], ['6', '7']]\n"
     ]
    }
   ],
   "source": [
    "f1 = open(\"input2.txt\",'r')\n",
    "f2 = open(\"output2.txt\",'w')\n",
    "inf = f1.read().split('\\n')\n",
    "nt = int(inf[0])\n",
    "\n",
    "mt = []\n",
    "for i in (inf[1::]):\n",
    "    mt.append(i.split(' '))\n",
    "\n",
    "mt.sort()\n",
    "print(mt)\n",
    "\n",
    "timesort(nt,mt,f2)\n",
    "\n",
    "f1.close()\n",
    "f2.close()\n"
   ]
  },
  {
   "cell_type": "code",
   "execution_count": 80,
   "metadata": {},
   "outputs": [
    {
     "name": "stdout",
     "output_type": "stream",
     "text": [
      "[['0', '4'], ['1', '2'], ['1', '5'], ['2', '3'], ['3', '4'], ['6', '9'], ['9', '10']]\n",
      "5\n",
      "[['1', '2'], ['2', '3'], ['3', '4'], ['6', '9'], ['9', '10']]\n"
     ]
    }
   ],
   "source": [
    "f1 = open(\"input3.txt\",'r')\n",
    "f2 = open(\"output3.txt\",'w')\n",
    "inf = f1.read().split('\\n')\n",
    "nt = int(inf[0])\n",
    "\n",
    "mt = []\n",
    "for i in (inf[1::]):\n",
    "    mt.append(i.split(' '))\n",
    "\n",
    "mt.sort()\n",
    "print(mt)\n",
    "timesort(nt,mt,f2)\n",
    "\n",
    "f1.close()\n",
    "f2.close()\n"
   ]
  },
  {
   "cell_type": "code",
   "execution_count": null,
   "metadata": {},
   "outputs": [],
   "source": [
    "#Bujhtesina why it doesn't work for the first one"
   ]
  }
 ],
 "metadata": {
  "kernelspec": {
   "display_name": "Python 3",
   "language": "python",
   "name": "python3"
  },
  "language_info": {
   "codemirror_mode": {
    "name": "ipython",
    "version": 3
   },
   "file_extension": ".py",
   "mimetype": "text/x-python",
   "name": "python",
   "nbconvert_exporter": "python",
   "pygments_lexer": "ipython3",
   "version": "3.10.6"
  }
 },
 "nbformat": 4,
 "nbformat_minor": 2
}
