{
 "cells": [
  {
   "cell_type": "code",
   "execution_count": 11,
   "metadata": {},
   "outputs": [],
   "source": [
    "def pairfind(len,sum,intli,op):\n",
    "    tick = False\n",
    "    for i in range(len):\n",
    "        if tick == False:\n",
    "            n1 = int(intli[i])\n",
    "            for j in range(i+1,len):\n",
    "                n2 = int(intli[j])\n",
    "                if n1 + n2 == sum:\n",
    "                    op.write(f\"{i+1} {j+1}\")\n",
    "                    tick = True\n",
    "                    break\n",
    "        else:\n",
    "            break\n",
    "    if tick == False:\n",
    "        op.write(\"IMPOSSIBLE\")\n",
    "    op.close()\n",
    "    \n",
    "    #DONE\n",
    "                "
   ]
  },
  {
   "cell_type": "code",
   "execution_count": 13,
   "metadata": {},
   "outputs": [],
   "source": [
    "f1 = open(\"input1.txt\",'r')\n",
    "f1_o = open('output1.txt','w')\n",
    "inf = f1.read().split('\\n')\n",
    "\n",
    "firstline = inf[0].split(' ')\n",
    "len = int(firstline[0])\n",
    "sum = int(firstline[1])\n",
    "intli = inf[1].split(' ')\n",
    "\n",
    "pairfind(len,sum,intli,f1_o)\n"
   ]
  },
  {
   "cell_type": "code",
   "execution_count": 7,
   "metadata": {},
   "outputs": [],
   "source": [
    "f2 = open(\"input2.txt\",'r')\n",
    "f2_o = open('output2.txt','w')\n",
    "inf = f2.read().split('\\n')\n",
    "\n",
    "firstline = inf[0].split(' ')\n",
    "len = int(firstline[0])\n",
    "sum = int(firstline[1])\n",
    "intli = inf[1].split(' ')\n",
    "\n",
    "pairfind(len,sum,intli,f2_o)"
   ]
  },
  {
   "cell_type": "code",
   "execution_count": 14,
   "metadata": {},
   "outputs": [],
   "source": [
    "f3 = open(\"input3.txt\",'r')\n",
    "f3_o = open('output3.txt','w')\n",
    "inf = f3.read().split('\\n')\n",
    "\n",
    "firstline = inf[0].split(' ')\n",
    "len = int(firstline[0])\n",
    "sum = int(firstline[1])\n",
    "intli = inf[1].split(' ')\n",
    "\n",
    "pairfind(len,sum,intli,f3_o)"
   ]
  },
  {
   "cell_type": "code",
   "execution_count": 12,
   "metadata": {},
   "outputs": [],
   "source": [
    "f4 = open(\"input4.txt\",'r')\n",
    "f4_o = open('output4.txt','w')\n",
    "inf = f4.read().split('\\n')\n",
    "\n",
    "firstline = inf[0].split(' ')\n",
    "len = int(firstline[0])\n",
    "sum = int(firstline[1])\n",
    "intli = inf[1].split(' ')\n",
    "\n",
    "pairfind(len,sum,intli,f4_o)"
   ]
  }
 ],
 "metadata": {
  "kernelspec": {
   "display_name": "Python 3",
   "language": "python",
   "name": "python3"
  },
  "language_info": {
   "codemirror_mode": {
    "name": "ipython",
    "version": 3
   },
   "file_extension": ".py",
   "mimetype": "text/x-python",
   "name": "python",
   "nbconvert_exporter": "python",
   "pygments_lexer": "ipython3",
   "version": "3.10.6"
  }
 },
 "nbformat": 4,
 "nbformat_minor": 2
}
